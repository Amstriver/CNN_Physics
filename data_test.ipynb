{
 "cells": [
  {
   "cell_type": "code",
   "execution_count": 7,
   "metadata": {},
   "outputs": [
    {
     "name": "stdout",
     "output_type": "stream",
     "text": [
      "处理完成！\n"
     ]
    }
   ],
   "source": [
    "import os  \n",
    "import pandas as pd  \n",
    "  \n",
    "# 设置文件夹路径和新文件的保存路径  \n",
    "folder_path = 'dataset'  \n",
    "output_folder = './'  \n",
    "  \n",
    "if not os.path.exists(output_folder):  \n",
    "    os.makedirs(output_folder)  \n",
    "  \n",
    "all_data = pd.DataFrame()  \n",
    "  \n",
    "# 遍历文件夹中的所有.xls文件  \n",
    "for filename in os.listdir(folder_path):  \n",
    "    if filename.endswith('.xls'):  \n",
    "        # 去除文件名中的.xls后缀  \n",
    "        base_filename = os.path.splitext(filename)[0]  \n",
    "  \n",
    "        # 构建完整的文件路径  \n",
    "        file_path = os.path.join(folder_path, filename)  \n",
    "  \n",
    "        # 读取.xls文件  \n",
    "        df = pd.read_excel(file_path)  \n",
    "  \n",
    "        # 转置整个DataFrame  \n",
    "        transposed_df = df.T  \n",
    "  \n",
    "        # 添加文件名作为新列  \n",
    "        transposed_df['Label'] = base_filename  \n",
    "  \n",
    "        # 将处理后的数据追加到汇总的DataFrame中  \n",
    "        # 使用 ignore_index=True 来重置索引，以便每个转置后的DataFrame都从0开始索引  \n",
    "        all_data = pd.concat([all_data, transposed_df], ignore_index=True)  \n",
    "  \n",
    "# 保存汇总后的DataFrame到CSV文件  \n",
    "output_file_path = os.path.join(output_folder, \"all_data.csv\")  \n",
    "all_data.to_csv(output_file_path, index=False)  \n",
    "  \n",
    "print(\"处理完成！\")"
   ]
  }
 ],
 "metadata": {
  "kernelspec": {
   "display_name": "ulov5",
   "language": "python",
   "name": "python3"
  },
  "language_info": {
   "codemirror_mode": {
    "name": "ipython",
    "version": 3
   },
   "file_extension": ".py",
   "mimetype": "text/x-python",
   "name": "python",
   "nbconvert_exporter": "python",
   "pygments_lexer": "ipython3",
   "version": "3.7.16"
  }
 },
 "nbformat": 4,
 "nbformat_minor": 2
}
